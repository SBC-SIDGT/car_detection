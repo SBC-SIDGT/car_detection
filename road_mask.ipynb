{
 "cells": [
  {
   "cell_type": "markdown",
   "metadata": {},
   "source": [
    "# Imports"
   ]
  },
  {
   "cell_type": "code",
   "execution_count": 1,
   "metadata": {
    "pycharm": {
     "is_executing": false
    }
   },
   "outputs": [],
   "source": [
    "import cv2\n",
    "from matplotlib import pyplot as plt\n",
    "from skimage import data\n",
    "from skimage.filters import threshold_local\n",
    "import glob\n",
    "import numpy as np\n",
    "from skimage.draw import polygon, polygon2mask\n",
    "# from skimage.color import rgb2gray\n",
    "from shapely.geometry import Point\n",
    "# from shapely.geometry.polygon import Polygon"
   ]
  },
  {
   "cell_type": "markdown",
   "metadata": {},
   "source": [
    "# Loading images"
   ]
  },
  {
   "cell_type": "code",
   "execution_count": 2,
   "metadata": {
    "pycharm": {
     "is_executing": false
    }
   },
   "outputs": [],
   "source": [
    "PATH=\"./\"\n",
    "images = (glob.glob(PATH + \"*.png\") + glob.glob(PATH + \"*.jpg\") + glob.glob(PATH + \"*.jpeg\"))\n",
    "images.sort()"
   ]
  },
  {
   "cell_type": "code",
   "execution_count": 3,
   "metadata": {
    "pycharm": {
     "is_executing": false
    }
   },
   "outputs": [],
   "source": [
    "def masked_image(img, polygons, show_result=False):\n",
    "    \"\"\"Create a mask based on polygons.\n",
    "    \n",
    "    Arguments:\n",
    "    image -- the image for which the mask will be used\n",
    "    Keyword arguments:\n",
    "    real -- the real part (default 0.0)\n",
    "    imag -- the imaginary part (default 0.0)\n",
    "    \"\"\"\n",
    "    mask = sum([polygon2mask(img.shape[:2],polygon)for polygon in polygons])\n",
    "    img[:, :, 0] = img[:, :, 0] * mask\n",
    "    img[:, :, 1] = img[:, :, 1] * mask\n",
    "    img[:, :, 2] = img[:, :, 2] * mask\n",
    "\n",
    "    if show_result is True:\n",
    "        \n",
    "        plt.figure(figsize = (40,40))\n",
    "        plt.imshow(cv2.cvtColor(img, cv2.COLOR_BGR2RGB))\n",
    "        plt.title('masked image result')\n",
    "        plt.show()\n",
    "    \n",
    "    return img"
   ]
  },
  {
   "cell_type": "code",
   "execution_count": 4,
   "metadata": {
    "pycharm": {
     "is_executing": false
    }
   },
   "outputs": [],
   "source": [
    "def car_detection(img, show_result=False):\n",
    "    cascade_src = 'cars.xml'\n",
    "    car_cascade = cv2.CascadeClassifier(cascade_src)\n",
    "\n",
    "    cars = car_cascade.detectMultiScale(img, 1.1, 1)\n",
    "    if show_result is True:\n",
    "        for (x,y,w,h) in cars:\n",
    "            cv2.rectangle(img,(x,y),(x+w,y+h),(0,0,255),3)      \n",
    "\n",
    "\n",
    "        plt.figure(figsize = (40,40))\n",
    "        plt.imshow(cv2.cvtColor(img, cv2.COLOR_BGR2RGB))\n",
    "        plt.title('masked and car detecetion image result')\n",
    "        plt.show()\n",
    "        \n",
    "    return cars"
   ]
  },
  {
   "cell_type": "code",
   "execution_count": 5,
   "metadata": {
    "pycharm": {
     "is_executing": false
    }
   },
   "outputs": [],
   "source": [
    "def main():\n",
    "    \n",
    "    \n",
    "    img = cv2.imread(images[0])\n",
    "    \n",
    "    img = img[150:,:]\n",
    "    \n",
    "    heigth, width = img.shape[:2]\n",
    "    \n",
    "    #first_polygon = Polygon([[0, 100], [heigth / 2, 60], [4 * heigth / 5, 0], [heigth, 0],[heigth, 60],[heigth / 2, 120], [0, 132]])\n",
    "    #second_polygon = Polygon([[0, 135], [heigth / 2, 125], [heigth, 105], [heigth, 205], [0, 157]])\n",
    "    #thrid_polygon = Polygon([[0, 185], [heigth, 325],[heigth,440], [0,220]])\n",
    "    \n",
    "    first_polygon = np.array([[0, 100], [heigth / 2, 60], [4 * heigth / 5, 0], [heigth, 0],[heigth, 60],[heigth / 2, 120], [0, 132]])\n",
    "    second_polygon = np.array([[0, 135], [heigth / 2, 125], [heigth, 105], [heigth, 205], [0, 157]])\n",
    "    thrid_polygon = np.array([[0, 185], [heigth, 325],[heigth,440], [0,220]])\n",
    "    \n",
    "    \n",
    "    \n",
    "    polygons=[first_polygon, second_polygon, thrid_polygon]\n",
    "    \n",
    "    return [car_detection(masked_image(img.copy(), [polygon])) for i, polygon in enumerate(polygons)]\n",
    "    #x,y,w,h = cars[0]\n",
    "    #print(Point(y + h / 2,x + w / 2))\n",
    "    #print([first_polygon.contains(Point(x + w / 2, y + h / 2)) for x,y,w,h in cars])"
   ]
  },
  {
   "cell_type": "code",
   "execution_count": 7,
   "metadata": {
    "pycharm": {
     "is_executing": false
    },
    "scrolled": true
   },
   "outputs": [
    {
     "data": {
      "text/plain": [
       "[(), array([[136,  47,  30,  30],\n",
       "        [118, 210,  66,  66]], dtype=int32), ()]"
      ]
     },
     "execution_count": 7,
     "metadata": {},
     "output_type": "execute_result"
    }
   ],
   "source": [
    "\n",
    "main()"
   ]
  },
  {
   "cell_type": "code",
   "execution_count": 8,
   "metadata": {
    "pycharm": {
     "is_executing": false
    }
   },
   "outputs": [
    {
     "ename": "NameError",
     "evalue": "name 'Point' is not defined",
     "output_type": "error",
     "traceback": [
      "\u001b[0;31m---------------------------------------------------------------------------\u001b[0m",
      "\u001b[0;31mNameError\u001b[0m                                 Traceback (most recent call last)",
      "\u001b[0;32m<ipython-input-8-e1da6594cfea>\u001b[0m in \u001b[0;36m<module>\u001b[0;34m\u001b[0m\n\u001b[0;32m----> 1\u001b[0;31m \u001b[0mpoint\u001b[0m \u001b[0;34m=\u001b[0m \u001b[0mPoint\u001b[0m\u001b[0;34m(\u001b[0m\u001b[0;36m0.5\u001b[0m\u001b[0;34m,\u001b[0m \u001b[0;36m0.5\u001b[0m\u001b[0;34m)\u001b[0m\u001b[0;34m\u001b[0m\u001b[0;34m\u001b[0m\u001b[0m\n\u001b[0m\u001b[1;32m      2\u001b[0m \u001b[0mpolygon\u001b[0m \u001b[0;34m=\u001b[0m \u001b[0mPolygon\u001b[0m\u001b[0;34m(\u001b[0m\u001b[0;34m[\u001b[0m\u001b[0;34m[\u001b[0m\u001b[0;36m0\u001b[0m\u001b[0;34m,\u001b[0m \u001b[0;36m185\u001b[0m\u001b[0;34m]\u001b[0m\u001b[0;34m,\u001b[0m \u001b[0;34m[\u001b[0m\u001b[0;36m2\u001b[0m\u001b[0;34m,\u001b[0m \u001b[0;36m325\u001b[0m\u001b[0;34m]\u001b[0m\u001b[0;34m,\u001b[0m\u001b[0;34m[\u001b[0m\u001b[0;36m4\u001b[0m\u001b[0;34m,\u001b[0m\u001b[0;36m440\u001b[0m\u001b[0;34m]\u001b[0m\u001b[0;34m,\u001b[0m \u001b[0;34m[\u001b[0m\u001b[0;36m0\u001b[0m\u001b[0;34m,\u001b[0m\u001b[0;36m220\u001b[0m\u001b[0;34m]\u001b[0m\u001b[0;34m]\u001b[0m\u001b[0;34m)\u001b[0m\u001b[0;34m\u001b[0m\u001b[0;34m\u001b[0m\u001b[0m\n\u001b[1;32m      3\u001b[0m \u001b[0mprint\u001b[0m\u001b[0;34m(\u001b[0m\u001b[0mpolygon\u001b[0m\u001b[0;34m.\u001b[0m\u001b[0mcontains\u001b[0m\u001b[0;34m(\u001b[0m\u001b[0mpoint\u001b[0m\u001b[0;34m)\u001b[0m\u001b[0;34m)\u001b[0m\u001b[0;34m\u001b[0m\u001b[0;34m\u001b[0m\u001b[0m\n",
      "\u001b[0;31mNameError\u001b[0m: name 'Point' is not defined"
     ]
    }
   ],
   "source": [
    "\n",
    "\n",
    "point = Point(0.5, 0.5)\n",
    "polygon = Polygon([[0, 185], [2, 325],[4,440], [0,220]])\n",
    "print(polygon.contains(point))"
   ]
  },
  {
   "cell_type": "code",
   "execution_count": null,
   "metadata": {
    "pycharm": {
     "is_executing": false
    }
   },
   "outputs": [],
   "source": []
  },
  {
   "cell_type": "code",
   "execution_count": null,
   "metadata": {
    "pycharm": {
     "is_executing": false
    }
   },
   "outputs": [],
   "source": []
  }
 ],
 "metadata": {
  "kernelspec": {
   "display_name": "Python 3",
   "language": "python",
   "name": "python3"
  },
  "language_info": {
   "codemirror_mode": {
    "name": "ipython",
    "version": 3
   },
   "file_extension": ".py",
   "mimetype": "text/x-python",
   "name": "python",
   "nbconvert_exporter": "python",
   "pygments_lexer": "ipython3",
   "version": "3.7.5"
  }
 },
 "nbformat": 4,
 "nbformat_minor": 2
}
