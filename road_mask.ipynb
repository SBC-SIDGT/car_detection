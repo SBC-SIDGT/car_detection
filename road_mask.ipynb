{
 "cells": [
  {
   "cell_type": "markdown",
   "metadata": {},
   "source": [
    "# Imports"
   ]
  },
  {
   "cell_type": "code",
   "execution_count": 17,
   "metadata": {},
   "outputs": [],
   "source": [
    "import cv2\n",
    "from matplotlib import pyplot as plt\n",
    "from skimage import data\n",
    "from skimage.filters import threshold_local\n",
    "import glob\n",
    "import numpy as np\n",
    "from skimage.draw import polygon, polygon2mask\n",
    "from skimage.color import rgb2gray\n",
    "from shapely.geometry import Point\n",
    "from shapely.geometry.polygon import Polygon"
   ]
  },
  {
   "cell_type": "markdown",
   "metadata": {},
   "source": [
    "# Loading images"
   ]
  },
  {
   "cell_type": "code",
   "execution_count": 18,
   "metadata": {},
   "outputs": [],
   "source": [
    "PATH=\"./\"\n",
    "images = (glob.glob(PATH + \"*.png\") + glob.glob(PATH + \"*.jpg\") + glob.glob(PATH + \"*.jpeg\"))\n",
    "images.sort()"
   ]
  },
  {
   "cell_type": "code",
   "execution_count": 19,
   "metadata": {},
   "outputs": [],
   "source": [
    "def masked_image(img, polygons, show_result=False):\n",
    "    \"\"\"Create a mask based on polygons.\n",
    "    \n",
    "    Arguments:\n",
    "    image -- the image for which the mask will be used\n",
    "    Keyword arguments:\n",
    "    real -- the real part (default 0.0)\n",
    "    imag -- the imaginary part (default 0.0)\n",
    "    \"\"\"\n",
    "    mask = sum([polygon2mask(img.shape[:2],polygon)for polygon in polygons])\n",
    "    img[:, :, 0] = img[:, :, 0] * mask\n",
    "    img[:, :, 1] = img[:, :, 1] * mask\n",
    "    img[:, :, 2] = img[:, :, 2] * mask\n",
    "\n",
    "    if show_result is True:\n",
    "        \n",
    "        plt.figure(figsize = (40,40))\n",
    "        plt.imshow(cv2.cvtColor(img, cv2.COLOR_BGR2RGB))\n",
    "        plt.title('masked image result')\n",
    "        plt.show()\n",
    "    \n",
    "    return img"
   ]
  },
  {
   "cell_type": "code",
   "execution_count": 20,
   "metadata": {},
   "outputs": [],
   "source": [
    "def car_detection(img, show_result=False):\n",
    "    cascade_src = 'cars.xml'\n",
    "    car_cascade = cv2.CascadeClassifier(cascade_src)\n",
    "\n",
    "    cars = car_cascade.detectMultiScale(img, 1.1, 1)\n",
    "    if show_result is True:\n",
    "        for (x,y,w,h) in cars:\n",
    "            cv2.rectangle(img,(x,y),(x+w,y+h),(0,0,255),3)      \n",
    "\n",
    "\n",
    "        plt.figure(figsize = (40,40))\n",
    "        plt.imshow(cv2.cvtColor(img, cv2.COLOR_BGR2RGB))\n",
    "        plt.title('masked and car detecetion image result')\n",
    "        plt.show()\n",
    "        \n",
    "    return cars"
   ]
  },
  {
   "cell_type": "code",
   "execution_count": 55,
   "metadata": {},
   "outputs": [],
   "source": [
    "def main():\n",
    "    \n",
    "    \n",
    "    img = cv2.imread(images[0])\n",
    "    \n",
    "    img = img[150:,:]\n",
    "    \n",
    "    heigth, width = img.shape[:2]\n",
    "    \n",
    "    #first_polygon = Polygon([[0, 100], [heigth / 2, 60], [4 * heigth / 5, 0], [heigth, 0],[heigth, 60],[heigth / 2, 120], [0, 132]])\n",
    "    #second_polygon = Polygon([[0, 135], [heigth / 2, 125], [heigth, 105], [heigth, 205], [0, 157]])\n",
    "    #thrid_polygon = Polygon([[0, 185], [heigth, 325],[heigth,440], [0,220]])\n",
    "    \n",
    "    first_polygon = np.array([[0, 100], [heigth / 2, 60], [4 * heigth / 5, 0], [heigth, 0],[heigth, 60],[heigth / 2, 120], [0, 132]])\n",
    "    second_polygon = np.array([[0, 135], [heigth / 2, 125], [heigth, 105], [heigth, 205], [0, 157]])\n",
    "    thrid_polygon = np.array([[0, 185], [heigth, 325],[heigth,440], [0,220]])\n",
    "    \n",
    "    \n",
    "    \n",
    "    polygons=[first_polygon, second_polygon, thrid_polygon]\n",
    "    \n",
    "    return [car_detection(masked_image(img.copy(), [polygon])) for i, polygon in enumerate(polygons)]\n",
    "    #x,y,w,h = cars[0]\n",
    "    #print(Point(y + h / 2,x + w / 2))\n",
    "    #print([first_polygon.contains(Point(x + w / 2, y + h / 2)) for x,y,w,h in cars])"
   ]
  },
  {
   "cell_type": "code",
   "execution_count": 56,
   "metadata": {
    "scrolled": true
   },
   "outputs": [
    {
     "data": {
      "text/plain": [
       "[(), array([[134,  12,  23,  23],\n",
       "        [118, 213,  64,  64]], dtype=int32), ()]"
      ]
     },
     "execution_count": 56,
     "metadata": {},
     "output_type": "execute_result"
    }
   ],
   "source": [
    "\n",
    "main()"
   ]
  },
  {
   "cell_type": "code",
   "execution_count": 23,
   "metadata": {},
   "outputs": [
    {
     "name": "stdout",
     "output_type": "stream",
     "text": [
      "False\n"
     ]
    }
   ],
   "source": [
    "\n",
    "\n",
    "point = Point(0.5, 0.5)\n",
    "polygon = Polygon([[0, 185], [2, 325],[4,440], [0,220]])\n",
    "print(polygon.contains(point))"
   ]
  },
  {
   "cell_type": "code",
   "execution_count": null,
   "metadata": {},
   "outputs": [],
   "source": []
  },
  {
   "cell_type": "code",
   "execution_count": null,
   "metadata": {},
   "outputs": [],
   "source": []
  }
 ],
 "metadata": {
  "kernelspec": {
   "display_name": "Python 3",
   "language": "python",
   "name": "python3"
  },
  "language_info": {
   "codemirror_mode": {
    "name": "ipython",
    "version": 3
   },
   "file_extension": ".py",
   "mimetype": "text/x-python",
   "name": "python",
   "nbconvert_exporter": "python",
   "pygments_lexer": "ipython3",
   "version": "3.7.3"
  }
 },
 "nbformat": 4,
 "nbformat_minor": 2
}
